{
 "cells": [
  {
   "cell_type": "markdown",
   "id": "dbbdccca",
   "metadata": {},
   "source": [
    "# **Frozen Lake Reinforcement Learning and Monte Carlo Methods**"
   ]
  },
  {
   "cell_type": "markdown",
   "id": "e5c133a9-b89d-4b4b-88ce-62442df09b03",
   "metadata": {},
   "source": [
    "## Frozen Lake Environment\n",
    "\n",
    "<img src=\"https://cf-courses-data.s3.us.cloud-object-storage.appdomain.cloud/IND-GPXX06PMEN/ezgif-3-c088eb1282.gif\" width=\"30%\" alt=\"iris image\">\n",
    "\n",
    "Frozen Lake will is a grid-like environment where each tile can be: \n",
    "\n",
    "1. **S**: starting point, safe \n",
    "2. **F**: frozen surface, safe\n",
    "3. **H**: hole, fall to your doom\n",
    "4. **G**: goal, where the disc is located\n",
    "\n",
    "4 possible actions, the action space is $\\{0,1,2,3\\} $:\n",
    "* **Left**: 0 \n",
    "* **Down**: 1\n",
    "* **Right**: 2 \n",
    "* **Up**: 3\n",
    "\n",
    "\n",
    "Important things to know are that: \n",
    "* The game ends if you step in to a hole or get to your goal\n",
    "* You receive a reward of 1 if you reach the goal, and zero otherwise."
   ]
  },
  {
   "cell_type": "markdown",
   "id": "eb78f30e-abfd-4360-b5ba-784cfa6d6abf",
   "metadata": {},
   "source": [
    "## Setup\n"
   ]
  },
  {
   "cell_type": "code",
   "execution_count": 1,
   "id": "e5a221a9-d9ff-4b66-bcb4-868605b9622f",
   "metadata": {},
   "outputs": [
    {
     "name": "stdout",
     "output_type": "stream",
     "text": [
      "Requirement already satisfied: gym==0.20.0 in /Library/Frameworks/Python.framework/Versions/3.8/lib/python3.8/site-packages (0.20.0)\n",
      "Requirement already satisfied: cloudpickle>=1.2.0 in /Library/Frameworks/Python.framework/Versions/3.8/lib/python3.8/site-packages (from gym==0.20.0) (2.2.1)\n",
      "Requirement already satisfied: numpy>=1.18.0 in /Library/Frameworks/Python.framework/Versions/3.8/lib/python3.8/site-packages (from gym==0.20.0) (1.24.1)\n",
      "\n",
      "\u001b[1m[\u001b[0m\u001b[34;49mnotice\u001b[0m\u001b[1;39;49m]\u001b[0m\u001b[39;49m A new release of pip available: \u001b[0m\u001b[31;49m22.3.1\u001b[0m\u001b[39;49m -> \u001b[0m\u001b[32;49m23.1.2\u001b[0m\n",
      "\u001b[1m[\u001b[0m\u001b[34;49mnotice\u001b[0m\u001b[1;39;49m]\u001b[0m\u001b[39;49m To update, run: \u001b[0m\u001b[32;49mpip3 install --upgrade pip\u001b[0m\n",
      "Note: you may need to restart the kernel to use updated packages.\n"
     ]
    }
   ],
   "source": [
    "pip install gym==0.20.0"
   ]
  },
  {
   "cell_type": "markdown",
   "id": "b08cdc07-3c3f-4cb5-be14-9d49d7760a73",
   "metadata": {},
   "source": [
    "### Importing Required Libraries\n"
   ]
  },
  {
   "cell_type": "code",
   "execution_count": 2,
   "id": "f797cafe-ca68-46a0-9f80-97399af4502a",
   "metadata": {},
   "outputs": [],
   "source": [
    "import gym\n",
    "import matplotlib.pyplot as plt\n",
    "from matplotlib import colors\n",
    "import math\n",
    "import numpy as np\n",
    "from collections import defaultdict\n",
    "from IPython.display import display, Latex"
   ]
  },
  {
   "cell_type": "markdown",
   "id": "9cf04b1c-2b7d-4d9c-a6aa-423e951c9aab",
   "metadata": {},
   "source": [
    "### Defining Helper Functions"
   ]
  },
  {
   "cell_type": "code",
   "execution_count": 3,
   "id": "fdac9089-ea01-4655-a62f-3061e3593bb8",
   "metadata": {},
   "outputs": [],
   "source": [
    "def argmax(z,epsilon=0.1):\n",
    "    \"\"\"\n",
    "    This function will select the maximum argument of its input, with the probability of epsilon. Otherwise, \n",
    "    it will randomly select the non greedy action\n",
    "    \"\"\"\n",
    "  \n",
    "    \n",
    "    argmax_=np.random.choice(np.where(z==z.max())[0])\n",
    "    \n",
    "    return argmax_"
   ]
  },
  {
   "cell_type": "code",
   "execution_count": 4,
   "id": "9318b8f4-3f76-493c-9047-6702ef48adcf",
   "metadata": {},
   "outputs": [],
   "source": [
    "# helper function to draw the frozen lake\n",
    "def plot(V,policy,col_ramp=1,dpi=175,draw_vals=False): \n",
    "    plt.rcParams['figure.dpi'] = dpi\n",
    "    plt.rcParams.update({'axes.edgecolor': (0.32,0.36,0.38)})\n",
    "    plt.rcParams.update({'font.size': 4 if env.env.nrow == 8 else 7})\n",
    "    plt.figure(figsize=(3,3))\n",
    "    plt.imshow(1-V.reshape(env.env.nrow,env.env.ncol)**col_ramp, cmap='gray', interpolation='none', clim=(0,1))\n",
    "    ax = plt.gca()\n",
    "    ax.set_xticks(np.arange(env.env.ncol)-.5)\n",
    "    ax.set_yticks(np.arange(env.env.nrow)-.5)\n",
    "    ax.set_xticklabels([])\n",
    "    ax.set_yticklabels([])\n",
    "    for s in range(env.nS):\n",
    "        x = s%env.env.nrow\n",
    "        y = int(s/env.env.ncol)\n",
    "        a = policy[s]\n",
    "        gray = np.array((0.32,0.36,0.38))\n",
    "        if env.desc.tolist()[y][x] == b'G': \n",
    "            plt.text(x-0.45,y-0.3, 'goal', color=(0.75,0.22,0.17), fontname='Sans', weight='bold')\n",
    "            continue\n",
    "        if a[0] > 0.0: plt.arrow(x, y, float(a[0])*-.84, 0.0, color=gray+0.2*(1-V[s]), head_width=0.1, head_length=0.1) # left\n",
    "        if a[1] > 0.0: plt.arrow(x, y, 0.0, float(a[1])*.84,  color=gray+0.2*(1-V[s]), head_width=0.1, head_length=0.1) # down\n",
    "        if a[2] > 0.0: plt.arrow(x, y, float(a[2])*.84, 0.0,  color=gray+0.2*(1-V[s]), head_width=0.1, head_length=0.1) # right\n",
    "        if a[3] > 0.0: plt.arrow(x, y, 0.0, float(a[3])*-.84, color=gray+0.2*(1-V[s]), head_width=0.1, head_length=0.1) # up\n",
    "        if env.desc.tolist()[y][x] == b'F': plt.text(x-0.45,y-0.3, 'ice', color=(gray*V[s]), fontname='Sans')\n",
    "        if env.desc.tolist()[y][x] == b'S': plt.text(x-0.45,y-0.3, 'start',color=(0.21,0.51,0.48), fontname='Sans', weight='bold')\n",
    "        if draw_vals and V[s]>0:\n",
    "            vstr = '{0:.1e}'.format(V[s]) if env.env.nrow == 8 else '{0:.6f}'.format(V[s])\n",
    "            plt.text(x-0.45,y+0.45, vstr, color=(gray*V[s]), fontname='Sans')\n",
    "    plt.grid(color=(0.42,0.46,0.48), linestyle=':')\n",
    "    ax.set_axisbelow(True)\n",
    "    ax.tick_params(color=(0.42,0.46,0.48),which='both',top='off',left='off',right='off',bottom='off')\n",
    "    plt.show()"
   ]
  },
  {
   "cell_type": "code",
   "execution_count": 5,
   "id": "3951a1f4-1ba6-4c1f-a887-3e2ee67d8dd7",
   "metadata": {},
   "outputs": [],
   "source": [
    "def pi_star_from_Q(Q):\n",
    "    done = False\n",
    "    pi_star = np.zeros([env.observation_space.n, env.action_space.n])\n",
    "    state = env.reset() # start in top-left, = 0\n",
    "    while not done:\n",
    "        action = np.argmax(Q[state])\n",
    "        pi_star[state,action] = 1\n",
    "        state, reward, done, _ = env.step(action)\n",
    "    return pi_star"
   ]
  },
  {
   "cell_type": "markdown",
   "id": "b06da527",
   "metadata": {},
   "source": [
    "## **Expreriment:**"
   ]
  },
  {
   "cell_type": "markdown",
   "id": "8aca20cd",
   "metadata": {},
   "source": [
    "Initialize the enviroenment:"
   ]
  },
  {
   "cell_type": "code",
   "execution_count": 6,
   "id": "92c93ae1-0630-434d-bd22-cf294d768b97",
   "metadata": {},
   "outputs": [],
   "source": [
    "env = gym.make(\"FrozenLake-v1\", is_slippery=False)"
   ]
  },
  {
   "cell_type": "markdown",
   "id": "ec5b5090",
   "metadata": {},
   "source": [
    "Visualize the environment "
   ]
  },
  {
   "cell_type": "code",
   "execution_count": 7,
   "id": "eb2e679f-1a5c-4b8a-b2fe-75c4b923d40a",
   "metadata": {},
   "outputs": [
    {
     "name": "stdout",
     "output_type": "stream",
     "text": [
      "\n",
      "\u001b[41mS\u001b[0mFFF\n",
      "FHFH\n",
      "FFFH\n",
      "HFFG\n"
     ]
    }
   ],
   "source": [
    "env.render()"
   ]
  },
  {
   "cell_type": "markdown",
   "id": "4b180b04-de85-4ee4-aec7-f4bdbf155ff4",
   "metadata": {},
   "source": [
    "The **action space** of the environment. \n"
   ]
  },
  {
   "cell_type": "code",
   "execution_count": 8,
   "id": "270dd288-2cd8-4c9d-9a76-acb32c4b6738",
   "metadata": {},
   "outputs": [
    {
     "data": {
      "text/plain": [
       "Discrete(4)"
      ]
     },
     "execution_count": 8,
     "metadata": {},
     "output_type": "execute_result"
    }
   ],
   "source": [
    "env.action_space"
   ]
  },
  {
   "cell_type": "markdown",
   "id": "75a2ed5d",
   "metadata": {},
   "source": [
    "Run a simple environment episode: "
   ]
  },
  {
   "cell_type": "code",
   "execution_count": 10,
   "id": "73a9599e",
   "metadata": {},
   "outputs": [
    {
     "name": "stdout",
     "output_type": "stream",
     "text": [
      "state: 1, reward: 0.0, done: False, {'prob': 1.0}, time step 0, action 2\n",
      "  (Right)\n",
      "S\u001b[41mF\u001b[0mFF\n",
      "FHFH\n",
      "FFFH\n",
      "HFFG\n",
      "state: 2, reward: 0.0, done: False, {'prob': 1.0}, time step 1, action 2\n",
      "  (Right)\n",
      "SF\u001b[41mF\u001b[0mF\n",
      "FHFH\n",
      "FFFH\n",
      "HFFG\n",
      "state: 6, reward: 0.0, done: False, {'prob': 1.0}, time step 2, action 1\n",
      "  (Down)\n",
      "SFFF\n",
      "FH\u001b[41mF\u001b[0mH\n",
      "FFFH\n",
      "HFFG\n",
      "state: 10, reward: 0.0, done: False, {'prob': 1.0}, time step 3, action 1\n",
      "  (Down)\n",
      "SFFF\n",
      "FHFH\n",
      "FF\u001b[41mF\u001b[0mH\n",
      "HFFG\n",
      "state: 14, reward: 0.0, done: False, {'prob': 1.0}, time step 4, action 1\n",
      "  (Down)\n",
      "SFFF\n",
      "FHFH\n",
      "FFFH\n",
      "HF\u001b[41mF\u001b[0mG\n",
      "state: 15, reward: 1.0, done: True, {'prob': 1.0}, time step 5, action 2\n",
      "  (Right)\n",
      "SFFF\n",
      "FHFH\n",
      "FFFH\n",
      "HFF\u001b[41mG\u001b[0m\n"
     ]
    }
   ],
   "source": [
    "actions=[2,2,1,1,1,2]\n",
    "\n",
    "current_observation = env.reset() # start a new game\n",
    "t= 0\n",
    "for i in actions: # make 6 actions\n",
    "    state, reward, done, prob = env.step(i) # step through the action and get the outputs\n",
    "\n",
    "    # here's a look at what we get back\n",
    "    print(f\"state: {state}, reward: {reward}, done: {done}, {prob}, time step {t}, action {i}\")\n",
    "    t+=1\n",
    "    env.render() "
   ]
  },
  {
   "cell_type": "markdown",
   "id": "a691f045",
   "metadata": {},
   "source": [
    "Define a new python function that will follow the epsilon probability and return an action:"
   ]
  },
  {
   "cell_type": "code",
   "execution_count": 11,
   "id": "40da80c2",
   "metadata": {},
   "outputs": [],
   "source": [
    "def random_action(action,epsilon=0.1,n_actions=4):\n",
    "    ''' \n",
    "    This function takes the best estimated action, eplsilon, and action space \n",
    "    and returns some action. \n",
    "    '''\n",
    "    # generate a random number from 0 to 1.\n",
    "    number = np.random.rand(1)\n",
    "    \n",
    "    # if number is smaller than 1-epsilon then return best estimated action\n",
    "    if number<1-epsilon:\n",
    "        return action\n",
    "    # if number is bigger or equals to 1-epsilon then return some random action from the action space\n",
    "    else:\n",
    "        action=np.random.randint(n_actions)  \n",
    "        return action "
   ]
  },
  {
   "cell_type": "markdown",
   "id": "596976c4",
   "metadata": {},
   "source": [
    "## Monte Carlo Method \n",
    "Implement asimple Monte Carlo Algorithm and Train our Agent: "
   ]
  },
  {
   "cell_type": "code",
   "execution_count": 12,
   "id": "c7f2122b",
   "metadata": {},
   "outputs": [],
   "source": [
    "def monte_carlo( environment,N_episodes=10000,epsilon=0.1, discount_factor=1,first_visit=True):\n",
    "    \"\"\"\n",
    "    This function determines the optimal policy using the epsilon greedy method. The input parameters are the discount factor, the number of episodes, epsilon value and the open AI gym objects. The class also Specifies if first-visit and every-visit method. The output is the policy,value function and action function.\n",
    "    Returns:  \n",
    "    policy: a dictionary of estimated policy for Frozen Lake \n",
    "    Q: a dictionary of estimated action function\n",
    "    \n",
    "    Args:\n",
    "    environment:AI gym Frozen Lake env object \n",
    "    N_episodes:number of episodes \n",
    "    discount_factor:discount factor\n",
    "    \"\"\"  \n",
    "   \n",
    "    #dictionary of estimated action function for FrozenLake\n",
    "    Q=defaultdict(float)\n",
    "    \n",
    "    # number of visits to the action function \n",
    "    NumberVisits= defaultdict(float)\n",
    "   \n",
    "    #dictionary  for policy \n",
    "    policy=defaultdict(float)\n",
    "    \n",
    "    #number  of actions \n",
    "    number_actions=environment.action_space.n\n",
    "  \n",
    "    \n",
    "    for i in range(N_episodes):\n",
    "        \n",
    "        #list that stores each state and reward for each episode     \n",
    "        episode=[]\n",
    "        # reset the  environment for the next episode and find first state  \n",
    "        state=environment.reset() \n",
    "        #reward for the first state\n",
    "        reward=0.0\n",
    "        #flag for end of episodes  \n",
    "        done=False\n",
    "        \n",
    "         #check if a policy for the state exists  \n",
    "        if isinstance(policy[state],np.int64):\n",
    "            #obtain action from policy \n",
    "            action=policy[state]\n",
    "            action=random_action(action,epsilon,n_actions=4)\n",
    "\n",
    "        else:\n",
    "            #if no policy for the state exists  select a random  action  \n",
    "            action=np.random.randint(number_actions)\n",
    "        \n",
    "        \n",
    "        #append first state, reward and action\n",
    "        episode.append({'state':state , 'reward':reward,'action':action})\n",
    "\n",
    "        #enumerate for each episode \n",
    "        while not(done):\n",
    "\n",
    "                #take action and find next state, reward and check if the episode is  done (True)\n",
    "                (state, reward, done, prob) = environment.step(action)\n",
    "\n",
    "                #check if a policy for the state exists  \n",
    "                if isinstance(policy[state],np.int64):\n",
    "                    #obtain action from policy\n",
    "                    action=int(policy[state])\n",
    "                    action=random_action(action,epsilon,n_actions=4)\n",
    "\n",
    "                else:\n",
    "                     #if no policy for the state exists  select a random  action  \n",
    "                    action=np.random.randint(number_actions)\n",
    "                    \n",
    "                #add state reward and action to list \n",
    "                episode.append({'state':state , 'reward':reward,'action':action})\n",
    "                \n",
    "         #reverse list as the return is calculated from the last state\n",
    "        episode.reverse()\n",
    "\n",
    "\n",
    "        # determine the return\n",
    "        G=0\n",
    "        flag=0\n",
    "        for t,step in enumerate(episode):\n",
    "                \n",
    "                G=discount_factor*G+step['reward']\n",
    "                \n",
    "                #increment counter for action \n",
    "                NumberVisits[step['state'],step['action']]+=1\n",
    "        \n",
    "                #if the action function value  does not exist, create an array  to store them \n",
    "                if not(isinstance(Q[step['state']],np.ndarray) ):\n",
    "                    Q[step['state']]= np.zeros((number_actions))\n",
    "\n",
    "                #calculate mean of action function Q Value functions using the  recursive definition of mean \n",
    "                Q[step['state']][step['action']]=Q[step['state']][step['action']]+(NumberVisits[step['state'],step['action']]**-1)*(G-Q[step['state']][step['action']])\n",
    "                        \n",
    "                #update the policy to select the action funciton argment with the largest value randomly select a different action \n",
    "                policy[step['state']]=np.random.choice(np.where(Q[step['state']]==Q[step['state']].max())[0])\n",
    "                        \n",
    "   \n",
    "    return policy, Q"
   ]
  },
  {
   "cell_type": "markdown",
   "id": "992092c5",
   "metadata": {},
   "source": [
    "Will train it with $1000$ episodes, epsilon of $0.2$ and discount factor of $0.8$:"
   ]
  },
  {
   "cell_type": "code",
   "execution_count": 13,
   "id": "8c3f9d4e",
   "metadata": {},
   "outputs": [],
   "source": [
    "policy, Q = monte_carlo(env,N_episodes=1000,epsilon=0.01, discount_factor=0.8)  "
   ]
  },
  {
   "cell_type": "markdown",
   "id": "a5d91f6a",
   "metadata": {},
   "source": [
    "Visualize the possible path that we will take using our policy and plot the grid with chosen actions for each state. "
   ]
  },
  {
   "cell_type": "code",
   "execution_count": 14,
   "id": "4be1f778",
   "metadata": {},
   "outputs": [
    {
     "data": {
      "image/png": "[encoded data removed]",
      "text/plain": [
       "<Figure size 525x525 with 1 Axes>"
      ]
     },
     "metadata": {},
     "output_type": "display_data"
    }
   ],
   "source": [
    "plot(np.zeros_like([0]*env.observation_space.n), pi_star_from_Q(Q))"
   ]
  },
  {
   "cell_type": "markdown",
   "id": "7572d74f",
   "metadata": {},
   "source": [
    "Check the success rate when agent is using random actions from the action space:"
   ]
  },
  {
   "cell_type": "code",
   "execution_count": 16,
   "id": "e84f4c95",
   "metadata": {},
   "outputs": [
    {
     "data": {
      "text/plain": [
       "2.1"
      ]
     },
     "execution_count": 16,
     "metadata": {},
     "output_type": "execute_result"
    }
   ],
   "source": [
    "episodes=1000\n",
    "sum_=0\n",
    "epsilon = 0.2\n",
    "for episode in range(episodes):\n",
    "    state= env.reset()\n",
    "    done=False\n",
    "    \n",
    "    while (not(done)):\n",
    "        action=np.random.randint(env.action_space.n)\n",
    "        state,reward,done,info = env.step(action)\n",
    "    sum_+=reward\n",
    "sum_/episodes*100"
   ]
  },
  {
   "cell_type": "markdown",
   "id": "e5100edf",
   "metadata": {},
   "source": [
    "Check the success rate when agent is using our trained epsilon-greedy policy."
   ]
  },
  {
   "cell_type": "code",
   "execution_count": 19,
   "id": "a1709e80",
   "metadata": {},
   "outputs": [
    {
     "data": {
      "text/plain": [
       "67.4"
      ]
     },
     "execution_count": 19,
     "metadata": {},
     "output_type": "execute_result"
    }
   ],
   "source": [
    "episodes=1000\n",
    "sum_=0\n",
    "epsilon = 0.2\n",
    "for episode in range(episodes):\n",
    "    state= env.reset()\n",
    "    done=False\n",
    "    \n",
    "    while (not(done)):\n",
    "        action=policy[state]\n",
    "        action=random_action(action,epsilon,n_actions=4)\n",
    "\n",
    "        state,reward,done,info = env.step(action)\n",
    "    sum_+=reward\n",
    "sum_/episodes*100"
   ]
  },
  {
   "cell_type": "markdown",
   "id": "81bc1f58",
   "metadata": {},
   "source": [
    "Around $70\\%$, check just policy with no epsilon (exploration factor): "
   ]
  },
  {
   "cell_type": "code",
   "execution_count": 20,
   "id": "89a50ad3",
   "metadata": {},
   "outputs": [
    {
     "data": {
      "text/plain": [
       "100.0"
      ]
     },
     "execution_count": 20,
     "metadata": {},
     "output_type": "execute_result"
    }
   ],
   "source": [
    "episodes=1000\n",
    "sum_=0\n",
    "epsilon = 0.2\n",
    "for episode in range(episodes):\n",
    "    state= env.reset()\n",
    "    done=False\n",
    "    \n",
    "    while (not(done)):\n",
    "        action=policy[state]\n",
    "        state,reward,done,info = env.step(action)\n",
    "    sum_+=reward\n",
    "sum_/episodes*100"
   ]
  },
  {
   "cell_type": "markdown",
   "id": "b059751b",
   "metadata": {},
   "source": [
    "$100\\%$ of cases, Agent has successfully solved the environment."
   ]
  },
  {
   "cell_type": "markdown",
   "id": "c0d184b9",
   "metadata": {},
   "source": [
    "## Bigger and More Complicated\n",
    "Bigger Frozen lake environment,  change it to $8 \\times 8$. We will have $8\\times 8 \\times 4 = 256$ possible state action pairs. \n",
    "\n",
    "Training our model in this bigger environment. First import the environment:"
   ]
  },
  {
   "cell_type": "code",
   "execution_count": 21,
   "id": "10da3668",
   "metadata": {},
   "outputs": [],
   "source": [
    "env = gym.make('FrozenLake8x8-v1', is_slippery=False) "
   ]
  },
  {
   "cell_type": "markdown",
   "id": "f70a50dd",
   "metadata": {},
   "source": [
    "Check how it looks:"
   ]
  },
  {
   "cell_type": "code",
   "execution_count": 23,
   "id": "4366eed3",
   "metadata": {},
   "outputs": [
    {
     "name": "stdout",
     "output_type": "stream",
     "text": [
      "\n",
      "\u001b[41mS\u001b[0mFFFFFFF\n",
      "FFFFFFFF\n",
      "FFFHFFFF\n",
      "FFFFFHFF\n",
      "FFFHFFFF\n",
      "FHHFFFHF\n",
      "FHFFHFHF\n",
      "FFFHFFFG\n"
     ]
    }
   ],
   "source": [
    "env.render()"
   ]
  },
  {
   "cell_type": "markdown",
   "id": "e28c347b",
   "metadata": {},
   "source": [
    "Train the model in the new environment:"
   ]
  },
  {
   "cell_type": "code",
   "execution_count": 24,
   "id": "0eae9efc",
   "metadata": {},
   "outputs": [],
   "source": [
    "policy, Q = monte_carlo(env,N_episodes=10000,epsilon=0.2, discount_factor=0.9)  "
   ]
  },
  {
   "cell_type": "markdown",
   "id": "826f2a51",
   "metadata": {},
   "source": [
    "Visualize the path that we will take using the resulted policy:"
   ]
  },
  {
   "cell_type": "code",
   "execution_count": 26,
   "id": "5edbd3b1",
   "metadata": {},
   "outputs": [
    {
     "data": {
      "image/png": "[encoded data removed]",
      "text/plain": [
       "<Figure size 525x525 with 1 Axes>"
      ]
     },
     "metadata": {},
     "output_type": "display_data"
    }
   ],
   "source": [
    "plot(np.zeros_like([0]*env.observation_space.n), pi_star_from_Q(Q))"
   ]
  },
  {
   "cell_type": "markdown",
   "id": "2adc0c3d",
   "metadata": {},
   "source": [
    "Conclusion: have created a successful algorithm, that solves a deterministic environment."
   ]
  }
 ],
 "metadata": {
  "kernelspec": {
   "display_name": "Python 3 (ipykernel)",
   "language": "python",
   "name": "python3"
  },
  "language_info": {
   "codemirror_mode": {
    "name": "ipython",
    "version": 3
   },
   "file_extension": ".py",
   "mimetype": "text/x-python",
   "name": "python",
   "nbconvert_exporter": "python",
   "pygments_lexer": "ipython3",
   "version": "3.8.0"
  }
 },
 "nbformat": 4,
 "nbformat_minor": 5
}
